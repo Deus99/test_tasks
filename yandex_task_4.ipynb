{
 "cells": [
  {
   "cell_type": "markdown",
   "metadata": {},
   "source": [
    "Формат файла: login tid Microtasks assigned_ts tclosed_ts.\n",
    "\n",
    "Пояснение к формату: login — логин асессора; tid — id оцениваемого задания (task id); Microtasks – количество микрозаданий в одном задании; assigned_ts — время резервирования системой задания для асессора; closed_ts — точное время завершения работы над заданием; разделитель — табуляция \\t.\n",
    "\n",
    "Задание может состоять из одного или несколько микрозаданий. Время резервирования задания (assigned_ts) указывает на тот момент, когда система назначила определенного асессора исполнителем этого задания. Этот момент может совпадать с временем начала работы асессора над заданием, а может и не совпадать (асессор может отойти выпить чаю, а потом приступить к заданию, асессор может выполнять предыдущее задание, в то время как за ним зарезервированы новые).\n",
    "\n",
    "Предположим, что асессор за 30 секунд своего рабочего времени получает N рублей.\n",
    "\n",
    "Какую оплату вы считаете справедливой для выполнения асессором одного микрозадания из этого файла? Опишите подробно все этапы вашего решения."
   ]
  },
  {
   "cell_type": "markdown",
   "metadata": {},
   "source": [
    "### Импорт модулей"
   ]
  },
  {
   "cell_type": "code",
   "execution_count": 47,
   "metadata": {},
   "outputs": [],
   "source": [
    "import pandas as pd\n",
    "import datetime as dt\n",
    "import numpy as np\n",
    "from math import ceil\n",
    "\n",
    "pd.options.mode.chained_assignment = None"
   ]
  },
  {
   "cell_type": "markdown",
   "metadata": {},
   "source": [
    "### Функции"
   ]
  },
  {
   "cell_type": "code",
   "execution_count": 4,
   "metadata": {},
   "outputs": [],
   "source": [
    "def iqr_test(column, lim_a, lim_b, bins, df=df, hist=True):\n",
    "    \"\"\"\n",
    "    Функция определения медианы, квантилей 25%/75% и \n",
    "    границы выбросов для данного сталбцы \n",
    "    lim_a lim_b - пределы для построенния гистограммы\n",
    "    \"\"\"\n",
    "    median = df[column].median()\n",
    "    IQR = df[column].quantile(0.75) - df[column].quantile(0.25)\n",
    "    perc25 = df[column].quantile(0.25)\n",
    "    perc75 = df[column].quantile(0.75)\n",
    "    print('25-й перцентиль: {},'.format(perc25), \n",
    "          '75-й перцентиль: {},'.format(perc75), \n",
    "          \"IQR: {}, \".format(IQR),\n",
    "          \"Границы выбросов: [{f}, {l}].\"\n",
    "          .format(f=perc25 - 1.5*IQR, l=perc75 + 1.5*IQR))\n",
    "    if hist:\n",
    "        df[column].loc[df[column].between(perc25 - 1.5*IQR, perc75 + 1.5*IQR)].\\\n",
    "        hist(bins=bins, range=(lim_a, lim_b), label='IQR')\n",
    "        \n",
    "def list_create(row):\n",
    "    row['counts'] = np.ones(row['Microtasks'])\n",
    "    return row"
   ]
  },
  {
   "cell_type": "code",
   "execution_count": 3,
   "metadata": {},
   "outputs": [],
   "source": [
    "df = pd.read_csv('data_task4_old.txt', delimiter= '\\t')"
   ]
  },
  {
   "cell_type": "code",
   "execution_count": 5,
   "metadata": {},
   "outputs": [
    {
     "data": {
      "text/html": [
       "<div>\n",
       "<style scoped>\n",
       "    .dataframe tbody tr th:only-of-type {\n",
       "        vertical-align: middle;\n",
       "    }\n",
       "\n",
       "    .dataframe tbody tr th {\n",
       "        vertical-align: top;\n",
       "    }\n",
       "\n",
       "    .dataframe thead th {\n",
       "        text-align: right;\n",
       "    }\n",
       "</style>\n",
       "<table border=\"1\" class=\"dataframe\">\n",
       "  <thead>\n",
       "    <tr style=\"text-align: right;\">\n",
       "      <th></th>\n",
       "      <th>login</th>\n",
       "      <th>tid</th>\n",
       "      <th>Microtasks</th>\n",
       "      <th>assigned_ts</th>\n",
       "      <th>closed_ts</th>\n",
       "    </tr>\n",
       "  </thead>\n",
       "  <tbody>\n",
       "    <tr>\n",
       "      <th>0</th>\n",
       "      <td>login0</td>\n",
       "      <td>190563850.0</td>\n",
       "      <td>4.0</td>\n",
       "      <td>2017-04-20 12:09:39</td>\n",
       "      <td>2017-04-20 13:13:01</td>\n",
       "    </tr>\n",
       "    <tr>\n",
       "      <th>1</th>\n",
       "      <td>login0</td>\n",
       "      <td>190561754.0</td>\n",
       "      <td>1.0</td>\n",
       "      <td>2017-04-20 12:10:30</td>\n",
       "      <td>2017-04-20 12:28:29</td>\n",
       "    </tr>\n",
       "    <tr>\n",
       "      <th>2</th>\n",
       "      <td>login0</td>\n",
       "      <td>190565906.0</td>\n",
       "      <td>4.0</td>\n",
       "      <td>2017-04-20 12:21:31</td>\n",
       "      <td>2017-04-20 13:30:10</td>\n",
       "    </tr>\n",
       "  </tbody>\n",
       "</table>\n",
       "</div>"
      ],
      "text/plain": [
       "    login          tid  Microtasks          assigned_ts            closed_ts\n",
       "0  login0  190563850.0         4.0  2017-04-20 12:09:39  2017-04-20 13:13:01\n",
       "1  login0  190561754.0         1.0  2017-04-20 12:10:30  2017-04-20 12:28:29\n",
       "2  login0  190565906.0         4.0  2017-04-20 12:21:31  2017-04-20 13:30:10"
      ]
     },
     "execution_count": 5,
     "metadata": {},
     "output_type": "execute_result"
    }
   ],
   "source": [
    "df.head(3)"
   ]
  },
  {
   "cell_type": "markdown",
   "metadata": {},
   "source": [
    "Преобразуем временные столбцы в формат datetime"
   ]
  },
  {
   "cell_type": "code",
   "execution_count": 6,
   "metadata": {},
   "outputs": [],
   "source": [
    "df['assigned_ts'] = pd.to_datetime(df.assigned_ts, format='%Y-%m-%d %H:%M:%S')"
   ]
  },
  {
   "cell_type": "code",
   "execution_count": 7,
   "metadata": {},
   "outputs": [],
   "source": [
    "df['closed_ts'] = pd.to_datetime(df.closed_ts, format='%Y-%m-%d %H:%M:%S')"
   ]
  },
  {
   "cell_type": "code",
   "execution_count": 8,
   "metadata": {},
   "outputs": [],
   "source": [
    "df['Microtasks'] = df['Microtasks'].astype(int)"
   ]
  },
  {
   "cell_type": "code",
   "execution_count": 9,
   "metadata": {},
   "outputs": [
    {
     "name": "stdout",
     "output_type": "stream",
     "text": [
      "<class 'pandas.core.frame.DataFrame'>\n",
      "RangeIndex: 701827 entries, 0 to 701826\n",
      "Data columns (total 5 columns):\n",
      " #   Column       Non-Null Count   Dtype         \n",
      "---  ------       --------------   -----         \n",
      " 0   login        701827 non-null  object        \n",
      " 1   tid          701827 non-null  float64       \n",
      " 2   Microtasks   701827 non-null  int32         \n",
      " 3   assigned_ts  701827 non-null  datetime64[ns]\n",
      " 4   closed_ts    701827 non-null  datetime64[ns]\n",
      "dtypes: datetime64[ns](2), float64(1), int32(1), object(1)\n",
      "memory usage: 24.1+ MB\n"
     ]
    }
   ],
   "source": [
    "df.info()"
   ]
  },
  {
   "cell_type": "markdown",
   "metadata": {},
   "source": [
    "Для начала посмотрим время работы над заданиями. Создадим столбец с длительностью "
   ]
  },
  {
   "cell_type": "code",
   "execution_count": 10,
   "metadata": {},
   "outputs": [],
   "source": [
    "df['duration'] = abs(df['closed_ts'] - df['assigned_ts']) # иногда старт и финиш перепутаны"
   ]
  },
  {
   "cell_type": "code",
   "execution_count": 11,
   "metadata": {},
   "outputs": [],
   "source": [
    "df = df.drop_duplicates() # часть строк дублируется полностью"
   ]
  },
  {
   "cell_type": "code",
   "execution_count": 12,
   "metadata": {},
   "outputs": [
    {
     "data": {
      "text/html": [
       "<div>\n",
       "<style scoped>\n",
       "    .dataframe tbody tr th:only-of-type {\n",
       "        vertical-align: middle;\n",
       "    }\n",
       "\n",
       "    .dataframe tbody tr th {\n",
       "        vertical-align: top;\n",
       "    }\n",
       "\n",
       "    .dataframe thead th {\n",
       "        text-align: right;\n",
       "    }\n",
       "</style>\n",
       "<table border=\"1\" class=\"dataframe\">\n",
       "  <thead>\n",
       "    <tr style=\"text-align: right;\">\n",
       "      <th></th>\n",
       "      <th>count</th>\n",
       "      <th>mean</th>\n",
       "      <th>std</th>\n",
       "      <th>min</th>\n",
       "      <th>25%</th>\n",
       "      <th>50%</th>\n",
       "      <th>75%</th>\n",
       "      <th>max</th>\n",
       "    </tr>\n",
       "  </thead>\n",
       "  <tbody>\n",
       "    <tr>\n",
       "      <th>tid</th>\n",
       "      <td>680037</td>\n",
       "      <td>1.88568e+08</td>\n",
       "      <td>1.3678e+07</td>\n",
       "      <td>1.13959e+08</td>\n",
       "      <td>1.90685e+08</td>\n",
       "      <td>1.93564e+08</td>\n",
       "      <td>1.96375e+08</td>\n",
       "      <td>1.98576e+08</td>\n",
       "    </tr>\n",
       "    <tr>\n",
       "      <th>Microtasks</th>\n",
       "      <td>680037</td>\n",
       "      <td>3.24528</td>\n",
       "      <td>3.64697</td>\n",
       "      <td>1</td>\n",
       "      <td>1</td>\n",
       "      <td>2</td>\n",
       "      <td>4</td>\n",
       "      <td>50</td>\n",
       "    </tr>\n",
       "    <tr>\n",
       "      <th>duration</th>\n",
       "      <td>680037</td>\n",
       "      <td>0 days 00:31:24.007527</td>\n",
       "      <td>0 days 03:02:19.455662</td>\n",
       "      <td>0 days 00:00:03</td>\n",
       "      <td>0 days 00:01:07</td>\n",
       "      <td>0 days 00:02:37</td>\n",
       "      <td>0 days 00:07:15</td>\n",
       "      <td>23 days 15:32:58</td>\n",
       "    </tr>\n",
       "  </tbody>\n",
       "</table>\n",
       "</div>"
      ],
      "text/plain": [
       "             count                    mean                     std  \\\n",
       "tid         680037             1.88568e+08              1.3678e+07   \n",
       "Microtasks  680037                 3.24528                 3.64697   \n",
       "duration    680037  0 days 00:31:24.007527  0 days 03:02:19.455662   \n",
       "\n",
       "                        min              25%              50%  \\\n",
       "tid             1.13959e+08      1.90685e+08      1.93564e+08   \n",
       "Microtasks                1                1                2   \n",
       "duration    0 days 00:00:03  0 days 00:01:07  0 days 00:02:37   \n",
       "\n",
       "                        75%               max  \n",
       "tid             1.96375e+08       1.98576e+08  \n",
       "Microtasks                4                50  \n",
       "duration    0 days 00:07:15  23 days 15:32:58  "
      ]
     },
     "execution_count": 12,
     "metadata": {},
     "output_type": "execute_result"
    }
   ],
   "source": [
    "df.describe().T"
   ]
  },
  {
   "cell_type": "code",
   "execution_count": 13,
   "metadata": {},
   "outputs": [
    {
     "data": {
      "text/html": [
       "<div>\n",
       "<style scoped>\n",
       "    .dataframe tbody tr th:only-of-type {\n",
       "        vertical-align: middle;\n",
       "    }\n",
       "\n",
       "    .dataframe tbody tr th {\n",
       "        vertical-align: top;\n",
       "    }\n",
       "\n",
       "    .dataframe thead th {\n",
       "        text-align: right;\n",
       "    }\n",
       "</style>\n",
       "<table border=\"1\" class=\"dataframe\">\n",
       "  <thead>\n",
       "    <tr style=\"text-align: right;\">\n",
       "      <th></th>\n",
       "      <th>login</th>\n",
       "      <th>tid</th>\n",
       "      <th>Microtasks</th>\n",
       "      <th>assigned_ts</th>\n",
       "      <th>closed_ts</th>\n",
       "      <th>duration</th>\n",
       "    </tr>\n",
       "  </thead>\n",
       "  <tbody>\n",
       "    <tr>\n",
       "      <th>640216</th>\n",
       "      <td>login699</td>\n",
       "      <td>195931108.0</td>\n",
       "      <td>1</td>\n",
       "      <td>2017-05-16 14:15:31</td>\n",
       "      <td>2017-05-16 14:15:34</td>\n",
       "      <td>0 days 00:00:03</td>\n",
       "    </tr>\n",
       "    <tr>\n",
       "      <th>640206</th>\n",
       "      <td>login699</td>\n",
       "      <td>195930258.0</td>\n",
       "      <td>1</td>\n",
       "      <td>2017-05-16 14:14:42</td>\n",
       "      <td>2017-05-16 14:14:45</td>\n",
       "      <td>0 days 00:00:03</td>\n",
       "    </tr>\n",
       "    <tr>\n",
       "      <th>640201</th>\n",
       "      <td>login699</td>\n",
       "      <td>195931178.0</td>\n",
       "      <td>1</td>\n",
       "      <td>2017-05-16 14:14:29</td>\n",
       "      <td>2017-05-16 14:14:32</td>\n",
       "      <td>0 days 00:00:03</td>\n",
       "    </tr>\n",
       "    <tr>\n",
       "      <th>640204</th>\n",
       "      <td>login699</td>\n",
       "      <td>195930544.0</td>\n",
       "      <td>1</td>\n",
       "      <td>2017-05-16 14:14:37</td>\n",
       "      <td>2017-05-16 14:14:40</td>\n",
       "      <td>0 days 00:00:03</td>\n",
       "    </tr>\n",
       "    <tr>\n",
       "      <th>521874</th>\n",
       "      <td>login564</td>\n",
       "      <td>195937488.0</td>\n",
       "      <td>1</td>\n",
       "      <td>2017-05-16 14:07:33</td>\n",
       "      <td>2017-05-16 14:07:37</td>\n",
       "      <td>0 days 00:00:04</td>\n",
       "    </tr>\n",
       "    <tr>\n",
       "      <th>...</th>\n",
       "      <td>...</td>\n",
       "      <td>...</td>\n",
       "      <td>...</td>\n",
       "      <td>...</td>\n",
       "      <td>...</td>\n",
       "      <td>...</td>\n",
       "    </tr>\n",
       "    <tr>\n",
       "      <th>603630</th>\n",
       "      <td>login657</td>\n",
       "      <td>195642338.0</td>\n",
       "      <td>1</td>\n",
       "      <td>2017-05-17 06:41:20</td>\n",
       "      <td>2017-05-29 17:03:56</td>\n",
       "      <td>12 days 10:22:36</td>\n",
       "    </tr>\n",
       "    <tr>\n",
       "      <th>291803</th>\n",
       "      <td>login300</td>\n",
       "      <td>185713868.0</td>\n",
       "      <td>15</td>\n",
       "      <td>2017-05-03 06:32:56</td>\n",
       "      <td>2017-05-22 16:26:19</td>\n",
       "      <td>19 days 09:53:23</td>\n",
       "    </tr>\n",
       "    <tr>\n",
       "      <th>291801</th>\n",
       "      <td>login300</td>\n",
       "      <td>189300182.0</td>\n",
       "      <td>13</td>\n",
       "      <td>2017-04-30 06:32:42</td>\n",
       "      <td>2017-05-22 16:23:44</td>\n",
       "      <td>22 days 09:51:02</td>\n",
       "    </tr>\n",
       "    <tr>\n",
       "      <th>291798</th>\n",
       "      <td>login300</td>\n",
       "      <td>185713854.0</td>\n",
       "      <td>17</td>\n",
       "      <td>2017-04-29 06:33:09</td>\n",
       "      <td>2017-05-22 16:21:41</td>\n",
       "      <td>23 days 09:48:32</td>\n",
       "    </tr>\n",
       "    <tr>\n",
       "      <th>603555</th>\n",
       "      <td>login657</td>\n",
       "      <td>185714006.0</td>\n",
       "      <td>7</td>\n",
       "      <td>2017-04-27 06:33:43</td>\n",
       "      <td>2017-05-20 22:06:41</td>\n",
       "      <td>23 days 15:32:58</td>\n",
       "    </tr>\n",
       "  </tbody>\n",
       "</table>\n",
       "<p>680037 rows × 6 columns</p>\n",
       "</div>"
      ],
      "text/plain": [
       "           login          tid  Microtasks         assigned_ts  \\\n",
       "640216  login699  195931108.0           1 2017-05-16 14:15:31   \n",
       "640206  login699  195930258.0           1 2017-05-16 14:14:42   \n",
       "640201  login699  195931178.0           1 2017-05-16 14:14:29   \n",
       "640204  login699  195930544.0           1 2017-05-16 14:14:37   \n",
       "521874  login564  195937488.0           1 2017-05-16 14:07:33   \n",
       "...          ...          ...         ...                 ...   \n",
       "603630  login657  195642338.0           1 2017-05-17 06:41:20   \n",
       "291803  login300  185713868.0          15 2017-05-03 06:32:56   \n",
       "291801  login300  189300182.0          13 2017-04-30 06:32:42   \n",
       "291798  login300  185713854.0          17 2017-04-29 06:33:09   \n",
       "603555  login657  185714006.0           7 2017-04-27 06:33:43   \n",
       "\n",
       "                 closed_ts         duration  \n",
       "640216 2017-05-16 14:15:34  0 days 00:00:03  \n",
       "640206 2017-05-16 14:14:45  0 days 00:00:03  \n",
       "640201 2017-05-16 14:14:32  0 days 00:00:03  \n",
       "640204 2017-05-16 14:14:40  0 days 00:00:03  \n",
       "521874 2017-05-16 14:07:37  0 days 00:00:04  \n",
       "...                    ...              ...  \n",
       "603630 2017-05-29 17:03:56 12 days 10:22:36  \n",
       "291803 2017-05-22 16:26:19 19 days 09:53:23  \n",
       "291801 2017-05-22 16:23:44 22 days 09:51:02  \n",
       "291798 2017-05-22 16:21:41 23 days 09:48:32  \n",
       "603555 2017-05-20 22:06:41 23 days 15:32:58  \n",
       "\n",
       "[680037 rows x 6 columns]"
      ]
     },
     "execution_count": 13,
     "metadata": {},
     "output_type": "execute_result"
    }
   ],
   "source": [
    "df.sort_values(by='duration')"
   ]
  },
  {
   "cell_type": "markdown",
   "metadata": {},
   "source": [
    "У нас нет данных о том сколько длилось каждое конкретное задание, можно посчитать среднее для каждого микротаска "
   ]
  },
  {
   "cell_type": "code",
   "execution_count": 14,
   "metadata": {},
   "outputs": [],
   "source": [
    "df['time_task'] = df['duration'] / df['Microtasks']"
   ]
  },
  {
   "cell_type": "markdown",
   "metadata": {},
   "source": [
    "Т.к. у нас расчет ведется по минутам (вернее 30 сек) , преобразуем столбец в числовой формат (минуты)"
   ]
  },
  {
   "cell_type": "code",
   "execution_count": 15,
   "metadata": {},
   "outputs": [],
   "source": [
    "df['time_task'] = df['time_task'] / np.timedelta64(1, 'm')"
   ]
  },
  {
   "cell_type": "code",
   "execution_count": 16,
   "metadata": {},
   "outputs": [
    {
     "data": {
      "text/html": [
       "<div>\n",
       "<style scoped>\n",
       "    .dataframe tbody tr th:only-of-type {\n",
       "        vertical-align: middle;\n",
       "    }\n",
       "\n",
       "    .dataframe tbody tr th {\n",
       "        vertical-align: top;\n",
       "    }\n",
       "\n",
       "    .dataframe thead th {\n",
       "        text-align: right;\n",
       "    }\n",
       "</style>\n",
       "<table border=\"1\" class=\"dataframe\">\n",
       "  <thead>\n",
       "    <tr style=\"text-align: right;\">\n",
       "      <th></th>\n",
       "      <th>login</th>\n",
       "      <th>tid</th>\n",
       "      <th>Microtasks</th>\n",
       "      <th>assigned_ts</th>\n",
       "      <th>closed_ts</th>\n",
       "      <th>duration</th>\n",
       "      <th>time_task</th>\n",
       "    </tr>\n",
       "  </thead>\n",
       "  <tbody>\n",
       "    <tr>\n",
       "      <th>0</th>\n",
       "      <td>login0</td>\n",
       "      <td>190563850.0</td>\n",
       "      <td>4</td>\n",
       "      <td>2017-04-20 12:09:39</td>\n",
       "      <td>2017-04-20 13:13:01</td>\n",
       "      <td>01:03:22</td>\n",
       "      <td>15.841667</td>\n",
       "    </tr>\n",
       "    <tr>\n",
       "      <th>1</th>\n",
       "      <td>login0</td>\n",
       "      <td>190561754.0</td>\n",
       "      <td>1</td>\n",
       "      <td>2017-04-20 12:10:30</td>\n",
       "      <td>2017-04-20 12:28:29</td>\n",
       "      <td>00:17:59</td>\n",
       "      <td>17.983333</td>\n",
       "    </tr>\n",
       "    <tr>\n",
       "      <th>2</th>\n",
       "      <td>login0</td>\n",
       "      <td>190565906.0</td>\n",
       "      <td>4</td>\n",
       "      <td>2017-04-20 12:21:31</td>\n",
       "      <td>2017-04-20 13:30:10</td>\n",
       "      <td>01:08:39</td>\n",
       "      <td>17.162500</td>\n",
       "    </tr>\n",
       "  </tbody>\n",
       "</table>\n",
       "</div>"
      ],
      "text/plain": [
       "    login          tid  Microtasks         assigned_ts           closed_ts  \\\n",
       "0  login0  190563850.0           4 2017-04-20 12:09:39 2017-04-20 13:13:01   \n",
       "1  login0  190561754.0           1 2017-04-20 12:10:30 2017-04-20 12:28:29   \n",
       "2  login0  190565906.0           4 2017-04-20 12:21:31 2017-04-20 13:30:10   \n",
       "\n",
       "  duration  time_task  \n",
       "0 01:03:22  15.841667  \n",
       "1 00:17:59  17.983333  \n",
       "2 01:08:39  17.162500  "
      ]
     },
     "execution_count": 16,
     "metadata": {},
     "output_type": "execute_result"
    }
   ],
   "source": [
    "df.head(3)"
   ]
  },
  {
   "cell_type": "code",
   "execution_count": 17,
   "metadata": {},
   "outputs": [
    {
     "data": {
      "text/html": [
       "<div>\n",
       "<style scoped>\n",
       "    .dataframe tbody tr th:only-of-type {\n",
       "        vertical-align: middle;\n",
       "    }\n",
       "\n",
       "    .dataframe tbody tr th {\n",
       "        vertical-align: top;\n",
       "    }\n",
       "\n",
       "    .dataframe thead th {\n",
       "        text-align: right;\n",
       "    }\n",
       "</style>\n",
       "<table border=\"1\" class=\"dataframe\">\n",
       "  <thead>\n",
       "    <tr style=\"text-align: right;\">\n",
       "      <th></th>\n",
       "      <th>login</th>\n",
       "      <th>tid</th>\n",
       "      <th>Microtasks</th>\n",
       "      <th>assigned_ts</th>\n",
       "      <th>closed_ts</th>\n",
       "      <th>duration</th>\n",
       "      <th>time_task</th>\n",
       "    </tr>\n",
       "  </thead>\n",
       "  <tbody>\n",
       "    <tr>\n",
       "      <th>151272</th>\n",
       "      <td>login139</td>\n",
       "      <td>196400390.0</td>\n",
       "      <td>13</td>\n",
       "      <td>2017-05-20 17:20:02</td>\n",
       "      <td>2017-05-20 17:20:25</td>\n",
       "      <td>0 days 00:00:23</td>\n",
       "      <td>0.029487</td>\n",
       "    </tr>\n",
       "    <tr>\n",
       "      <th>153221</th>\n",
       "      <td>login139</td>\n",
       "      <td>198396915.0</td>\n",
       "      <td>42</td>\n",
       "      <td>2017-06-01 01:34:21</td>\n",
       "      <td>2017-06-01 01:35:38</td>\n",
       "      <td>0 days 00:01:17</td>\n",
       "      <td>0.030556</td>\n",
       "    </tr>\n",
       "    <tr>\n",
       "      <th>315281</th>\n",
       "      <td>login328</td>\n",
       "      <td>168095766.0</td>\n",
       "      <td>9</td>\n",
       "      <td>2017-05-11 16:06:02</td>\n",
       "      <td>2017-05-11 16:06:19</td>\n",
       "      <td>0 days 00:00:17</td>\n",
       "      <td>0.031481</td>\n",
       "    </tr>\n",
       "    <tr>\n",
       "      <th>474137</th>\n",
       "      <td>login517</td>\n",
       "      <td>192276632.0</td>\n",
       "      <td>8</td>\n",
       "      <td>2017-04-27 08:40:29</td>\n",
       "      <td>2017-04-27 08:40:45</td>\n",
       "      <td>0 days 00:00:16</td>\n",
       "      <td>0.033333</td>\n",
       "    </tr>\n",
       "    <tr>\n",
       "      <th>153207</th>\n",
       "      <td>login139</td>\n",
       "      <td>198396841.0</td>\n",
       "      <td>50</td>\n",
       "      <td>2017-06-01 01:24:08</td>\n",
       "      <td>2017-06-01 01:25:48</td>\n",
       "      <td>0 days 00:01:40</td>\n",
       "      <td>0.033333</td>\n",
       "    </tr>\n",
       "    <tr>\n",
       "      <th>...</th>\n",
       "      <td>...</td>\n",
       "      <td>...</td>\n",
       "      <td>...</td>\n",
       "      <td>...</td>\n",
       "      <td>...</td>\n",
       "      <td>...</td>\n",
       "      <td>...</td>\n",
       "    </tr>\n",
       "    <tr>\n",
       "      <th>291824</th>\n",
       "      <td>login300</td>\n",
       "      <td>195509762.0</td>\n",
       "      <td>1</td>\n",
       "      <td>2017-05-17 06:39:37</td>\n",
       "      <td>2017-05-23 11:56:24</td>\n",
       "      <td>6 days 05:16:47</td>\n",
       "      <td>8956.783333</td>\n",
       "    </tr>\n",
       "    <tr>\n",
       "      <th>291828</th>\n",
       "      <td>login300</td>\n",
       "      <td>195631030.0</td>\n",
       "      <td>1</td>\n",
       "      <td>2017-05-17 06:41:13</td>\n",
       "      <td>2017-05-24 06:57:28</td>\n",
       "      <td>7 days 00:16:15</td>\n",
       "      <td>10096.250000</td>\n",
       "    </tr>\n",
       "    <tr>\n",
       "      <th>291826</th>\n",
       "      <td>login300</td>\n",
       "      <td>195582430.0</td>\n",
       "      <td>1</td>\n",
       "      <td>2017-05-17 06:40:29</td>\n",
       "      <td>2017-05-24 06:57:04</td>\n",
       "      <td>7 days 00:16:35</td>\n",
       "      <td>10096.583333</td>\n",
       "    </tr>\n",
       "    <tr>\n",
       "      <th>291834</th>\n",
       "      <td>login300</td>\n",
       "      <td>195502918.0</td>\n",
       "      <td>1</td>\n",
       "      <td>2017-05-18 06:35:43</td>\n",
       "      <td>2017-05-25 10:15:40</td>\n",
       "      <td>7 days 03:39:57</td>\n",
       "      <td>10299.950000</td>\n",
       "    </tr>\n",
       "    <tr>\n",
       "      <th>603630</th>\n",
       "      <td>login657</td>\n",
       "      <td>195642338.0</td>\n",
       "      <td>1</td>\n",
       "      <td>2017-05-17 06:41:20</td>\n",
       "      <td>2017-05-29 17:03:56</td>\n",
       "      <td>12 days 10:22:36</td>\n",
       "      <td>17902.600000</td>\n",
       "    </tr>\n",
       "  </tbody>\n",
       "</table>\n",
       "<p>680037 rows × 7 columns</p>\n",
       "</div>"
      ],
      "text/plain": [
       "           login          tid  Microtasks         assigned_ts  \\\n",
       "151272  login139  196400390.0          13 2017-05-20 17:20:02   \n",
       "153221  login139  198396915.0          42 2017-06-01 01:34:21   \n",
       "315281  login328  168095766.0           9 2017-05-11 16:06:02   \n",
       "474137  login517  192276632.0           8 2017-04-27 08:40:29   \n",
       "153207  login139  198396841.0          50 2017-06-01 01:24:08   \n",
       "...          ...          ...         ...                 ...   \n",
       "291824  login300  195509762.0           1 2017-05-17 06:39:37   \n",
       "291828  login300  195631030.0           1 2017-05-17 06:41:13   \n",
       "291826  login300  195582430.0           1 2017-05-17 06:40:29   \n",
       "291834  login300  195502918.0           1 2017-05-18 06:35:43   \n",
       "603630  login657  195642338.0           1 2017-05-17 06:41:20   \n",
       "\n",
       "                 closed_ts         duration     time_task  \n",
       "151272 2017-05-20 17:20:25  0 days 00:00:23      0.029487  \n",
       "153221 2017-06-01 01:35:38  0 days 00:01:17      0.030556  \n",
       "315281 2017-05-11 16:06:19  0 days 00:00:17      0.031481  \n",
       "474137 2017-04-27 08:40:45  0 days 00:00:16      0.033333  \n",
       "153207 2017-06-01 01:25:48  0 days 00:01:40      0.033333  \n",
       "...                    ...              ...           ...  \n",
       "291824 2017-05-23 11:56:24  6 days 05:16:47   8956.783333  \n",
       "291828 2017-05-24 06:57:28  7 days 00:16:15  10096.250000  \n",
       "291826 2017-05-24 06:57:04  7 days 00:16:35  10096.583333  \n",
       "291834 2017-05-25 10:15:40  7 days 03:39:57  10299.950000  \n",
       "603630 2017-05-29 17:03:56 12 days 10:22:36  17902.600000  \n",
       "\n",
       "[680037 rows x 7 columns]"
      ]
     },
     "execution_count": 17,
     "metadata": {},
     "output_type": "execute_result"
    }
   ],
   "source": [
    "df.sort_values(by='time_task')"
   ]
  },
  {
   "cell_type": "markdown",
   "metadata": {},
   "source": [
    "Чтобы правильно посчитать среднее и арифмитическое, отклонение и пр. нужно чтобы количество строк в датафрейме совпадало с количеством микротасков. "
   ]
  },
  {
   "cell_type": "code",
   "execution_count": 18,
   "metadata": {},
   "outputs": [],
   "source": [
    "df_exploded = df.apply(list_create, axis=1).explode('counts')"
   ]
  },
  {
   "cell_type": "code",
   "execution_count": 19,
   "metadata": {},
   "outputs": [
    {
     "data": {
      "text/plain": [
       "count    2.206912e+06\n",
       "mean     9.675622e+00\n",
       "std      5.142164e+01\n",
       "min      2.948718e-02\n",
       "25%      5.069444e-01\n",
       "50%      1.033333e+00\n",
       "75%      2.698333e+00\n",
       "max      1.790260e+04\n",
       "Name: time_task, dtype: float64"
      ]
     },
     "execution_count": 19,
     "metadata": {},
     "output_type": "execute_result"
    }
   ],
   "source": [
    "df_exploded['time_task'].describe()"
   ]
  },
  {
   "cell_type": "markdown",
   "metadata": {},
   "source": [
    "Среднее время задания более 9,5 минут, медиана при этом только 1 минута. Нужно убрать выбросы."
   ]
  },
  {
   "cell_type": "code",
   "execution_count": 20,
   "metadata": {},
   "outputs": [
    {
     "name": "stdout",
     "output_type": "stream",
     "text": [
      "25-й перцентиль: 0.5069444444333333, 75-й перцентиль: 2.6983333333333333, IQR: 2.1913888888999997,  Границы выбросов: [-2.7801388889166665, 5.985416666683333].\n"
     ]
    },
    {
     "data": {
      "image/png": "[encoded data removed]",
      "text/plain": [
       "<Figure size 432x288 with 1 Axes>"
      ]
     },
     "metadata": {
      "needs_background": "light"
     },
     "output_type": "display_data"
    }
   ],
   "source": [
    "iqr_test('time_task', 0, 10, 50, df_exploded)"
   ]
  },
  {
   "cell_type": "markdown",
   "metadata": {},
   "source": [
    "Проверим версию с \"чаепитием\". Сгруппируем по количеству микротасков и посмотрим как меняется среднее время выполнения задания. "
   ]
  },
  {
   "cell_type": "code",
   "execution_count": 21,
   "metadata": {},
   "outputs": [
    {
     "data": {
      "image/png": "[encoded data removed]",
      "text/plain": [
       "<Figure size 432x288 with 1 Axes>"
      ]
     },
     "metadata": {
      "needs_background": "light"
     },
     "output_type": "display_data"
    }
   ],
   "source": [
    "df_exploded.groupby('Microtasks')['time_task'].mean().plot();"
   ]
  },
  {
   "cell_type": "markdown",
   "metadata": {},
   "source": [
    "Виден \"отложенный\" старт в микротасках с малым количеством."
   ]
  },
  {
   "cell_type": "markdown",
   "metadata": {},
   "source": [
    "### Очистка данных  \n",
    "Вначале убираем выбросы, в данном случае микротаски с временем исполнение больше 5.9855 минут  "
   ]
  },
  {
   "cell_type": "code",
   "execution_count": 22,
   "metadata": {},
   "outputs": [
    {
     "data": {
      "text/html": [
       "<div>\n",
       "<style scoped>\n",
       "    .dataframe tbody tr th:only-of-type {\n",
       "        vertical-align: middle;\n",
       "    }\n",
       "\n",
       "    .dataframe tbody tr th {\n",
       "        vertical-align: top;\n",
       "    }\n",
       "\n",
       "    .dataframe thead th {\n",
       "        text-align: right;\n",
       "    }\n",
       "</style>\n",
       "<table border=\"1\" class=\"dataframe\">\n",
       "  <thead>\n",
       "    <tr style=\"text-align: right;\">\n",
       "      <th></th>\n",
       "      <th>tid</th>\n",
       "      <th>Microtasks</th>\n",
       "      <th>duration</th>\n",
       "      <th>time_task</th>\n",
       "    </tr>\n",
       "  </thead>\n",
       "  <tbody>\n",
       "    <tr>\n",
       "      <th>count</th>\n",
       "      <td>1.869835e+06</td>\n",
       "      <td>1.869835e+06</td>\n",
       "      <td>1869835</td>\n",
       "      <td>1.869835e+06</td>\n",
       "    </tr>\n",
       "    <tr>\n",
       "      <th>mean</th>\n",
       "      <td>1.827992e+08</td>\n",
       "      <td>7.241779e+00</td>\n",
       "      <td>0 days 00:07:51.942776</td>\n",
       "      <td>1.249382e+00</td>\n",
       "    </tr>\n",
       "    <tr>\n",
       "      <th>std</th>\n",
       "      <td>1.610863e+07</td>\n",
       "      <td>6.026939e+00</td>\n",
       "      <td>0 days 00:10:44.809016</td>\n",
       "      <td>1.171324e+00</td>\n",
       "    </tr>\n",
       "    <tr>\n",
       "      <th>min</th>\n",
       "      <td>1.139586e+08</td>\n",
       "      <td>1.000000e+00</td>\n",
       "      <td>0 days 00:00:03</td>\n",
       "      <td>2.948718e-02</td>\n",
       "    </tr>\n",
       "    <tr>\n",
       "      <th>25%</th>\n",
       "      <td>1.696563e+08</td>\n",
       "      <td>3.000000e+00</td>\n",
       "      <td>0 days 00:02:00</td>\n",
       "      <td>4.500000e-01</td>\n",
       "    </tr>\n",
       "    <tr>\n",
       "      <th>50%</th>\n",
       "      <td>1.910433e+08</td>\n",
       "      <td>7.000000e+00</td>\n",
       "      <td>0 days 00:04:23</td>\n",
       "      <td>8.333333e-01</td>\n",
       "    </tr>\n",
       "    <tr>\n",
       "      <th>75%</th>\n",
       "      <td>1.956320e+08</td>\n",
       "      <td>1.000000e+01</td>\n",
       "      <td>0 days 00:09:25</td>\n",
       "      <td>1.602381e+00</td>\n",
       "    </tr>\n",
       "    <tr>\n",
       "      <th>max</th>\n",
       "      <td>1.985758e+08</td>\n",
       "      <td>5.000000e+01</td>\n",
       "      <td>0 days 04:03:13</td>\n",
       "      <td>5.983333e+00</td>\n",
       "    </tr>\n",
       "  </tbody>\n",
       "</table>\n",
       "</div>"
      ],
      "text/plain": [
       "                tid    Microtasks                duration     time_task\n",
       "count  1.869835e+06  1.869835e+06                 1869835  1.869835e+06\n",
       "mean   1.827992e+08  7.241779e+00  0 days 00:07:51.942776  1.249382e+00\n",
       "std    1.610863e+07  6.026939e+00  0 days 00:10:44.809016  1.171324e+00\n",
       "min    1.139586e+08  1.000000e+00         0 days 00:00:03  2.948718e-02\n",
       "25%    1.696563e+08  3.000000e+00         0 days 00:02:00  4.500000e-01\n",
       "50%    1.910433e+08  7.000000e+00         0 days 00:04:23  8.333333e-01\n",
       "75%    1.956320e+08  1.000000e+01         0 days 00:09:25  1.602381e+00\n",
       "max    1.985758e+08  5.000000e+01         0 days 04:03:13  5.983333e+00"
      ]
     },
     "execution_count": 22,
     "metadata": {},
     "output_type": "execute_result"
    }
   ],
   "source": [
    "df_exploded.query('time_task<5.9855').describe()"
   ]
  },
  {
   "cell_type": "markdown",
   "metadata": {},
   "source": [
    "Что выполнить проще один микротаск на 30-50 заданий или несколько маленьких ?   \n",
    "Сгруппируем на 10 частей (каждые 5) по количеству заданий. "
   ]
  },
  {
   "cell_type": "code",
   "execution_count": 23,
   "metadata": {},
   "outputs": [
    {
     "data": {
      "text/plain": [
       "Microtasks\n",
       "0     1.050000\n",
       "1     0.795833\n",
       "2     0.695833\n",
       "3     0.613725\n",
       "4     0.515972\n",
       "5     0.398000\n",
       "6     0.458333\n",
       "7     0.312500\n",
       "8     0.321212\n",
       "9     0.248148\n",
       "10    0.258167\n",
       "Name: time_task, dtype: float64"
      ]
     },
     "execution_count": 23,
     "metadata": {},
     "output_type": "execute_result"
    }
   ],
   "source": [
    "df_exploded.query('time_task<5.9855').groupby(df.Microtasks // 5)['time_task'].median()"
   ]
  },
  {
   "cell_type": "code",
   "execution_count": 24,
   "metadata": {},
   "outputs": [
    {
     "data": {
      "image/png": "[encoded data removed]",
      "text/plain": [
       "<Figure size 432x288 with 1 Axes>"
      ]
     },
     "metadata": {
      "needs_background": "light"
     },
     "output_type": "display_data"
    }
   ],
   "source": [
    "df_exploded.query('time_task<5.9855').groupby(df.Microtasks//5)['time_task'].median().plot();"
   ]
  },
  {
   "cell_type": "markdown",
   "metadata": {},
   "source": [
    "Каждое задание содержит от 1 до 50 микротасков. Задания где один микротаск выполняются в среднем (по медиане) около одной минуты. Когда количество микротасков приближается к 45-50 время выполнения приближается к 15 секунд. Чтобы было справедливо, необходимо заложить минимальную оценка работы (предположим N/2 за каждый микротакс) + ставку за количество микротасков в задании. Изначально распределение было похоже на логнормальное, возможно это график экспоненты. "
   ]
  },
  {
   "cell_type": "code",
   "execution_count": 31,
   "metadata": {},
   "outputs": [],
   "source": [
    "df_exploded['duration_min'] = df_exploded['time_task'] * df['Microtasks']"
   ]
  },
  {
   "cell_type": "code",
   "execution_count": 32,
   "metadata": {},
   "outputs": [],
   "source": [
    "mt = df_exploded.groupby(df.Microtasks)['duration_min'].median().reset_index()"
   ]
  },
  {
   "cell_type": "markdown",
   "metadata": {},
   "source": [
    "Можно предложить схему в таком виде:  \n",
    "Базовая ставка за задание = 0,5 минуты\n",
    "Базовая ставка за микротаск в задании 0,25 минуты  \n",
    "Бонусная ставка за количество заданий. Чем меньше заданий, тем больше бонус.  \n",
    "По факту у нас линейная регрессия с виде 0,5 + 0,25*X + еще что-то. "
   ]
  },
  {
   "cell_type": "code",
   "execution_count": 33,
   "metadata": {},
   "outputs": [],
   "source": [
    "# Базовая ставка за задание N/2   # базовая ставка за микротаск\n",
    "mt['base'] = 0.5\n",
    "mt['base_micro'] = 0.25  "
   ]
  },
  {
   "cell_type": "code",
   "execution_count": 34,
   "metadata": {},
   "outputs": [
    {
     "data": {
      "image/png": "[encoded data removed]",
      "text/plain": [
       "<Figure size 432x288 with 1 Axes>"
      ]
     },
     "metadata": {
      "needs_background": "light"
     },
     "output_type": "display_data"
    }
   ],
   "source": [
    "mt['dur_micro'] = mt['base_micro']*mt['Microtasks']  # Нормируем время за количество микротасков\n",
    "mt['bonus_tm'] = mt['duration_min'] - mt['base'] - mt['dur_micro']\n",
    "mt['bonus_tm_1mt'] = mt['bonus_tm'] / mt['Microtasks'] # В пересчете на 1 микротаск\n",
    "mt.groupby(mt.Microtasks//5)['bonus_tm_1mt'].median().plot();"
   ]
  },
  {
   "cell_type": "code",
   "execution_count": 35,
   "metadata": {},
   "outputs": [
    {
     "data": {
      "text/html": [
       "<div>\n",
       "<style scoped>\n",
       "    .dataframe tbody tr th:only-of-type {\n",
       "        vertical-align: middle;\n",
       "    }\n",
       "\n",
       "    .dataframe tbody tr th {\n",
       "        vertical-align: top;\n",
       "    }\n",
       "\n",
       "    .dataframe thead th {\n",
       "        text-align: right;\n",
       "    }\n",
       "</style>\n",
       "<table border=\"1\" class=\"dataframe\">\n",
       "  <thead>\n",
       "    <tr style=\"text-align: right;\">\n",
       "      <th></th>\n",
       "      <th>Microtasks</th>\n",
       "      <th>duration_min</th>\n",
       "      <th>base</th>\n",
       "      <th>base_micro</th>\n",
       "      <th>dur_micro</th>\n",
       "      <th>bonus_tm</th>\n",
       "      <th>bonus_tm_1mt</th>\n",
       "    </tr>\n",
       "  </thead>\n",
       "  <tbody>\n",
       "    <tr>\n",
       "      <th>0</th>\n",
       "      <td>1</td>\n",
       "      <td>1.483333</td>\n",
       "      <td>0.5</td>\n",
       "      <td>0.25</td>\n",
       "      <td>0.25</td>\n",
       "      <td>0.733333</td>\n",
       "      <td>0.733333</td>\n",
       "    </tr>\n",
       "    <tr>\n",
       "      <th>1</th>\n",
       "      <td>2</td>\n",
       "      <td>2.416667</td>\n",
       "      <td>0.5</td>\n",
       "      <td>0.25</td>\n",
       "      <td>0.50</td>\n",
       "      <td>1.416667</td>\n",
       "      <td>0.708333</td>\n",
       "    </tr>\n",
       "    <tr>\n",
       "      <th>2</th>\n",
       "      <td>3</td>\n",
       "      <td>3.233333</td>\n",
       "      <td>0.5</td>\n",
       "      <td>0.25</td>\n",
       "      <td>0.75</td>\n",
       "      <td>1.983333</td>\n",
       "      <td>0.661111</td>\n",
       "    </tr>\n",
       "    <tr>\n",
       "      <th>3</th>\n",
       "      <td>4</td>\n",
       "      <td>4.066667</td>\n",
       "      <td>0.5</td>\n",
       "      <td>0.25</td>\n",
       "      <td>1.00</td>\n",
       "      <td>2.566667</td>\n",
       "      <td>0.641667</td>\n",
       "    </tr>\n",
       "    <tr>\n",
       "      <th>4</th>\n",
       "      <td>5</td>\n",
       "      <td>4.966667</td>\n",
       "      <td>0.5</td>\n",
       "      <td>0.25</td>\n",
       "      <td>1.25</td>\n",
       "      <td>3.216667</td>\n",
       "      <td>0.643333</td>\n",
       "    </tr>\n",
       "  </tbody>\n",
       "</table>\n",
       "</div>"
      ],
      "text/plain": [
       "   Microtasks  duration_min  base  base_micro  dur_micro  bonus_tm  \\\n",
       "0           1      1.483333   0.5        0.25       0.25  0.733333   \n",
       "1           2      2.416667   0.5        0.25       0.50  1.416667   \n",
       "2           3      3.233333   0.5        0.25       0.75  1.983333   \n",
       "3           4      4.066667   0.5        0.25       1.00  2.566667   \n",
       "4           5      4.966667   0.5        0.25       1.25  3.216667   \n",
       "\n",
       "   bonus_tm_1mt  \n",
       "0      0.733333  \n",
       "1      0.708333  \n",
       "2      0.661111  \n",
       "3      0.641667  \n",
       "4      0.643333  "
      ]
     },
     "execution_count": 35,
     "metadata": {},
     "output_type": "execute_result"
    }
   ],
   "source": [
    "mt.head()"
   ]
  },
  {
   "cell_type": "code",
   "execution_count": 36,
   "metadata": {},
   "outputs": [],
   "source": [
    "X = np.column_stack((np.ones(50), np.log(mt['Microtasks'])))\n",
    "y = np.array(mt['bonus_tm'])"
   ]
  },
  {
   "cell_type": "code",
   "execution_count": 37,
   "metadata": {},
   "outputs": [
    {
     "data": {
      "text/plain": [
       "array([0.94283667, 2.120799  ])"
      ]
     },
     "execution_count": 37,
     "metadata": {},
     "output_type": "execute_result"
    }
   ],
   "source": [
    "koef=np.linalg.inv(X.T@X)@X.T@y\n",
    "koef"
   ]
  },
  {
   "cell_type": "markdown",
   "metadata": {},
   "source": [
    "\n",
    "Можно привести формулу для к виду уравнения y=a + bx + c$ln$(x), но так будет менее удобно менять ставки.   \n",
    "Добавляем столбец бонуса = 0,964 - 0,195 $ln(x)$, столбец базовой ставки за задание и столбец базовой ставки за микротаск в наш начальный датафрейм"
   ]
  },
  {
   "cell_type": "code",
   "execution_count": 38,
   "metadata": {},
   "outputs": [],
   "source": [
    "df['base'] = 0.5 \n",
    "df['bonus_mct'] = 0.25\n",
    "df['bonus_counts'] =  np.log(df['Microtasks']) * 2.12"
   ]
  },
  {
   "cell_type": "code",
   "execution_count": 39,
   "metadata": {},
   "outputs": [],
   "source": [
    "df['total_time'] = df['base'] + df['bonus_mct'] * df['Microtasks'] + df['bonus_counts']"
   ]
  },
  {
   "cell_type": "code",
   "execution_count": 40,
   "metadata": {},
   "outputs": [
    {
     "data": {
      "text/plain": [
       "count    680037.000000\n",
       "mean          0.897300\n",
       "std           0.199434\n",
       "min           0.425870\n",
       "25%           0.750000\n",
       "50%           0.750000\n",
       "75%           1.109736\n",
       "max           1.234736\n",
       "Name: time_1tsk, dtype: float64"
      ]
     },
     "execution_count": 40,
     "metadata": {},
     "output_type": "execute_result"
    }
   ],
   "source": [
    "df['time_1tsk'] = df['total_time'] / df['Microtasks']\n",
    "df['time_1tsk'].describe()"
   ]
  },
  {
   "cell_type": "markdown",
   "metadata": {},
   "source": [
    "Средние значения чутка подросли, отклонение закономерно стало гораздо меньше. Теперь посчитаем по пользователям, примерную статистику, по заданиям.  "
   ]
  },
  {
   "cell_type": "code",
   "execution_count": 43,
   "metadata": {},
   "outputs": [],
   "source": [
    "df['duration_min'] = df['time_task'] * df['Microtasks']\n",
    "users = df.groupby('login')[['duration_min', 'total_time']].mean()"
   ]
  },
  {
   "cell_type": "code",
   "execution_count": 44,
   "metadata": {},
   "outputs": [
    {
     "data": {
      "text/plain": [
       "login\n",
       "login72         1\n",
       "login282        1\n",
       "login130        1\n",
       "login551        1\n",
       "login752        1\n",
       "            ...  \n",
       "login132     7980\n",
       "login139     9615\n",
       "login73     11377\n",
       "login224    11462\n",
       "login7      13721\n",
       "Name: Microtasks, Length: 767, dtype: int64"
      ]
     },
     "execution_count": 44,
     "metadata": {},
     "output_type": "execute_result"
    }
   ],
   "source": [
    "df.groupby('login')['Microtasks'].count().sort_values()"
   ]
  },
  {
   "cell_type": "code",
   "execution_count": 45,
   "metadata": {},
   "outputs": [
    {
     "data": {
      "text/html": [
       "<div>\n",
       "<style scoped>\n",
       "    .dataframe tbody tr th:only-of-type {\n",
       "        vertical-align: middle;\n",
       "    }\n",
       "\n",
       "    .dataframe tbody tr th {\n",
       "        vertical-align: top;\n",
       "    }\n",
       "\n",
       "    .dataframe thead th {\n",
       "        text-align: right;\n",
       "    }\n",
       "</style>\n",
       "<table border=\"1\" class=\"dataframe\">\n",
       "  <thead>\n",
       "    <tr style=\"text-align: right;\">\n",
       "      <th></th>\n",
       "      <th>total_time</th>\n",
       "      <th>duration_min</th>\n",
       "    </tr>\n",
       "    <tr>\n",
       "      <th>Microtasks</th>\n",
       "      <th></th>\n",
       "      <th></th>\n",
       "    </tr>\n",
       "  </thead>\n",
       "  <tbody>\n",
       "    <tr>\n",
       "      <th>1</th>\n",
       "      <td>0.750000</td>\n",
       "      <td>2.163811</td>\n",
       "    </tr>\n",
       "    <tr>\n",
       "      <th>2</th>\n",
       "      <td>2.469472</td>\n",
       "      <td>3.179466</td>\n",
       "    </tr>\n",
       "    <tr>\n",
       "      <th>3</th>\n",
       "      <td>3.579058</td>\n",
       "      <td>4.048546</td>\n",
       "    </tr>\n",
       "    <tr>\n",
       "      <th>4</th>\n",
       "      <td>4.438944</td>\n",
       "      <td>5.013700</td>\n",
       "    </tr>\n",
       "    <tr>\n",
       "      <th>5</th>\n",
       "      <td>5.162008</td>\n",
       "      <td>6.069365</td>\n",
       "    </tr>\n",
       "    <tr>\n",
       "      <th>6</th>\n",
       "      <td>5.798530</td>\n",
       "      <td>6.486393</td>\n",
       "    </tr>\n",
       "    <tr>\n",
       "      <th>7</th>\n",
       "      <td>6.375330</td>\n",
       "      <td>11.643860</td>\n",
       "    </tr>\n",
       "    <tr>\n",
       "      <th>8</th>\n",
       "      <td>6.908416</td>\n",
       "      <td>8.994444</td>\n",
       "    </tr>\n",
       "    <tr>\n",
       "      <th>9</th>\n",
       "      <td>7.408116</td>\n",
       "      <td>9.723692</td>\n",
       "    </tr>\n",
       "    <tr>\n",
       "      <th>10</th>\n",
       "      <td>7.881480</td>\n",
       "      <td>10.062312</td>\n",
       "    </tr>\n",
       "    <tr>\n",
       "      <th>11</th>\n",
       "      <td>8.333538</td>\n",
       "      <td>11.229240</td>\n",
       "    </tr>\n",
       "    <tr>\n",
       "      <th>12</th>\n",
       "      <td>8.768002</td>\n",
       "      <td>10.348718</td>\n",
       "    </tr>\n",
       "    <tr>\n",
       "      <th>13</th>\n",
       "      <td>9.187693</td>\n",
       "      <td>10.771429</td>\n",
       "    </tr>\n",
       "    <tr>\n",
       "      <th>14</th>\n",
       "      <td>9.594802</td>\n",
       "      <td>13.985507</td>\n",
       "    </tr>\n",
       "    <tr>\n",
       "      <th>15</th>\n",
       "      <td>9.991066</td>\n",
       "      <td>12.866111</td>\n",
       "    </tr>\n",
       "    <tr>\n",
       "      <th>16</th>\n",
       "      <td>10.377888</td>\n",
       "      <td>14.843750</td>\n",
       "    </tr>\n",
       "    <tr>\n",
       "      <th>17</th>\n",
       "      <td>10.756412</td>\n",
       "      <td>14.366667</td>\n",
       "    </tr>\n",
       "    <tr>\n",
       "      <th>18</th>\n",
       "      <td>11.127588</td>\n",
       "      <td>15.040000</td>\n",
       "    </tr>\n",
       "    <tr>\n",
       "      <th>19</th>\n",
       "      <td>11.492211</td>\n",
       "      <td>17.325000</td>\n",
       "    </tr>\n",
       "    <tr>\n",
       "      <th>20</th>\n",
       "      <td>11.850952</td>\n",
       "      <td>10.088095</td>\n",
       "    </tr>\n",
       "    <tr>\n",
       "      <th>21</th>\n",
       "      <td>12.204388</td>\n",
       "      <td>13.358333</td>\n",
       "    </tr>\n",
       "    <tr>\n",
       "      <th>22</th>\n",
       "      <td>12.553010</td>\n",
       "      <td>9.766667</td>\n",
       "    </tr>\n",
       "    <tr>\n",
       "      <th>23</th>\n",
       "      <td>12.897248</td>\n",
       "      <td>16.804167</td>\n",
       "    </tr>\n",
       "    <tr>\n",
       "      <th>24</th>\n",
       "      <td>13.237474</td>\n",
       "      <td>17.561111</td>\n",
       "    </tr>\n",
       "    <tr>\n",
       "      <th>25</th>\n",
       "      <td>13.574017</td>\n",
       "      <td>10.533333</td>\n",
       "    </tr>\n",
       "    <tr>\n",
       "      <th>27</th>\n",
       "      <td>14.237174</td>\n",
       "      <td>14.316667</td>\n",
       "    </tr>\n",
       "    <tr>\n",
       "      <th>28</th>\n",
       "      <td>14.564274</td>\n",
       "      <td>22.875000</td>\n",
       "    </tr>\n",
       "    <tr>\n",
       "      <th>32</th>\n",
       "      <td>15.847360</td>\n",
       "      <td>12.400000</td>\n",
       "    </tr>\n",
       "    <tr>\n",
       "      <th>33</th>\n",
       "      <td>16.162596</td>\n",
       "      <td>13.000000</td>\n",
       "    </tr>\n",
       "    <tr>\n",
       "      <th>35</th>\n",
       "      <td>16.787338</td>\n",
       "      <td>25.833333</td>\n",
       "    </tr>\n",
       "    <tr>\n",
       "      <th>39</th>\n",
       "      <td>18.016751</td>\n",
       "      <td>15.750000</td>\n",
       "    </tr>\n",
       "    <tr>\n",
       "      <th>50</th>\n",
       "      <td>21.293489</td>\n",
       "      <td>11.533333</td>\n",
       "    </tr>\n",
       "  </tbody>\n",
       "</table>\n",
       "</div>"
      ],
      "text/plain": [
       "            total_time  duration_min\n",
       "Microtasks                          \n",
       "1             0.750000      2.163811\n",
       "2             2.469472      3.179466\n",
       "3             3.579058      4.048546\n",
       "4             4.438944      5.013700\n",
       "5             5.162008      6.069365\n",
       "6             5.798530      6.486393\n",
       "7             6.375330     11.643860\n",
       "8             6.908416      8.994444\n",
       "9             7.408116      9.723692\n",
       "10            7.881480     10.062312\n",
       "11            8.333538     11.229240\n",
       "12            8.768002     10.348718\n",
       "13            9.187693     10.771429\n",
       "14            9.594802     13.985507\n",
       "15            9.991066     12.866111\n",
       "16           10.377888     14.843750\n",
       "17           10.756412     14.366667\n",
       "18           11.127588     15.040000\n",
       "19           11.492211     17.325000\n",
       "20           11.850952     10.088095\n",
       "21           12.204388     13.358333\n",
       "22           12.553010      9.766667\n",
       "23           12.897248     16.804167\n",
       "24           13.237474     17.561111\n",
       "25           13.574017     10.533333\n",
       "27           14.237174     14.316667\n",
       "28           14.564274     22.875000\n",
       "32           15.847360     12.400000\n",
       "33           16.162596     13.000000\n",
       "35           16.787338     25.833333\n",
       "39           18.016751     15.750000\n",
       "50           21.293489     11.533333"
      ]
     },
     "execution_count": 45,
     "metadata": {},
     "output_type": "execute_result"
    }
   ],
   "source": [
    "user7 = df[df.login=='login7'][['Microtasks', 'duration_min', 'total_time']]\n",
    "user7['time_ratio'] = user7['total_time'] / user7['duration_min']\n",
    "user7.groupby('Microtasks')[['total_time', 'duration_min']].mean()"
   ]
  },
  {
   "cell_type": "markdown",
   "metadata": {},
   "source": [
    "## Нормирование оплаты\n",
    "Чтобы нормировать оплату за задания, можно округлить время обработки задания кратно 30 сек (N) и окргулить в большую сторону. "
   ]
  },
  {
   "cell_type": "code",
   "execution_count": 49,
   "metadata": {},
   "outputs": [
    {
     "data": {
      "text/plain": [
       "Microtasks\n",
       "1      2\n",
       "2      5\n",
       "3      8\n",
       "4      9\n",
       "5     11\n",
       "6     12\n",
       "7     13\n",
       "8     14\n",
       "9     15\n",
       "10    16\n",
       "11    17\n",
       "12    18\n",
       "13    19\n",
       "14    20\n",
       "15    20\n",
       "16    21\n",
       "17    22\n",
       "18    23\n",
       "19    23\n",
       "20    24\n",
       "21    25\n",
       "22    26\n",
       "23    26\n",
       "24    27\n",
       "25    28\n",
       "26    28\n",
       "27    29\n",
       "28    30\n",
       "29    30\n",
       "30    31\n",
       "31    32\n",
       "32    32\n",
       "33    33\n",
       "34    33\n",
       "35    34\n",
       "36    35\n",
       "37    35\n",
       "38    36\n",
       "39    37\n",
       "40    37\n",
       "41    38\n",
       "42    38\n",
       "43    39\n",
       "44    40\n",
       "45    40\n",
       "46    41\n",
       "47    41\n",
       "48    42\n",
       "49    43\n",
       "50    43\n",
       "Name: n_count, dtype: int64"
      ]
     },
     "execution_count": 49,
     "metadata": {},
     "output_type": "execute_result"
    }
   ],
   "source": [
    "df['n_count'] = df['total_time'].apply(lambda x: ceil(x/0.5))\n",
    "\n",
    "# Количество микратасков в задании  и количество \"блоков N\" равных 30 сек\n",
    "df.groupby('Microtasks')['n_count'].mean()"
   ]
  },
  {
   "cell_type": "code",
   "execution_count": null,
   "metadata": {},
   "outputs": [],
   "source": []
  }
 ],
 "metadata": {
  "kernelspec": {
   "display_name": "Python 3",
   "language": "python",
   "name": "python3"
  },
  "language_info": {
   "codemirror_mode": {
    "name": "ipython",
    "version": 3
   },
   "file_extension": ".py",
   "mimetype": "text/x-python",
   "name": "python",
   "nbconvert_exporter": "python",
   "pygments_lexer": "ipython3",
   "version": "3.8.3"
  }
 },
 "nbformat": 4,
 "nbformat_minor": 4
}
